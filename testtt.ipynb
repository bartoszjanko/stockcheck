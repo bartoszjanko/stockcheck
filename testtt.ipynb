{
 "cells": [
  {
   "cell_type": "markdown",
   "id": "1322aefe",
   "metadata": {},
   "source": [
    "# Saving raw wse stocks data to wse_stocks.csv"
   ]
  },
  {
   "cell_type": "code",
   "execution_count": null,
   "id": "6fe8e2d5",
   "metadata": {},
   "outputs": [],
   "source": [
    "import re\n",
    "import pandas as pd\n",
    "\n",
    "# Wczytaj dane z pliku\n",
    "with open(\"wse_stock_raw.txt\", \"r\", encoding=\"utf-8\") as f:\n",
    "    lines = [line.strip() for line in f.readlines() if line.strip()]\n",
    "\n",
    "companies = []\n",
    "\n",
    "# Iteracja co 2 linie (nazwa i dane)\n",
    "for i in range(0, len(lines), 2):\n",
    "    name_line = lines[i].strip()\n",
    "    info_line = lines[i + 1].strip() if i + 1 < len(lines) else \"\"\n",
    "\n",
    "    # Wyciągnij nazwę spółki i ticker\n",
    "    match = re.match(r\"^(.*) \\((\\w+)\\)$\", name_line)\n",
    "    if not match:\n",
    "        continue\n",
    "    company_name, ticker = match.groups()\n",
    "\n",
    "    # Usuń 'SPÓŁKA AKCYJNA'\n",
    "    company_name = re.sub(r\"(?i)\\s*SPÓŁKA AKCYJNA\", \"\", company_name).strip()\n",
    "\n",
    "    # Parsuj linię z informacjami\n",
    "    parts = info_line.split('|')\n",
    "    if len(parts) < 3:\n",
    "        continue  # pomiń niekompletne wiersze\n",
    "\n",
    "    market = parts[0].strip()\n",
    "    indices = parts[1].strip()\n",
    "    rest = parts[2].strip()\n",
    "\n",
    "    # Wyciągnij sektor (branżę)\n",
    "    industry = rest.split('\\t')[0].strip()\n",
    "\n",
    "    companies.append({\n",
    "        \"company_name\": company_name,\n",
    "        \"ticker\": ticker,\n",
    "        \"market\": market,\n",
    "        \"indices\": indices,\n",
    "        \"industry\": industry\n",
    "    })\n",
    "\n",
    "# Stwórz DataFrame i zapisz do pliku\n",
    "df = pd.DataFrame(companies)\n",
    "df.to_csv(\"wse_stocks.csv\", index=False)\n",
    "print(\"Dane zapisane do pliku wse_stocks.csv\")"
   ]
  },
  {
   "cell_type": "markdown",
   "id": "ce74c903",
   "metadata": {},
   "source": [
    "# Saving raw nc stocks data to nc_stock.csv"
   ]
  },
  {
   "cell_type": "code",
   "execution_count": 29,
   "id": "2ad6c9e0",
   "metadata": {},
   "outputs": [
    {
     "name": "stdout",
     "output_type": "stream",
     "text": [
      "Dane zapisane do pliku nc_stocks.csv\n"
     ]
    }
   ],
   "source": [
    "import re\n",
    "import pandas as pd\n",
    "\n",
    "# Wczytaj dane z pliku tekstowego\n",
    "with open(\"nc_stocks_raw.txt\", \"r\", encoding=\"utf-8\") as f:\n",
    "    lines = [line.strip() for line in f if line.strip()]\n",
    "\n",
    "companies = []\n",
    "\n",
    "# Przetwarzanie co 2 linie (nazwa + ticker i branża)\n",
    "for i in range(0, len(lines), 2):\n",
    "    name_line = lines[i]\n",
    "    info_line = lines[i + 1] if i + 1 < len(lines) else \"\"\n",
    "\n",
    "    # Wyciąganie nazwy i tickera\n",
    "    match = re.match(r\"^(.*) \\((\\w+)\\)$\", name_line)\n",
    "    if not match:\n",
    "        continue\n",
    "    company_name, ticker = match.groups()\n",
    "\n",
    "    # Usuń SPÓŁKA AKCYJNA i SPÓŁKA AKCYJNA W RESTRUKTURYZACJI\n",
    "    company_name = re.sub(r\"(?i)\\s*SPÓŁKA AKCYJNA(?: W RESTRUKTURYZACJI)?\", \"\", company_name).strip()\n",
    "\n",
    "    # Podział drugiej linii: ticker (zbędny) + branża\n",
    "    info_parts = info_line.split('|')\n",
    "    if len(info_parts) < 2:\n",
    "        continue\n",
    "\n",
    "    industry = info_parts[1].strip()\n",
    "\n",
    "    companies.append({\n",
    "        \"company_name\": company_name,\n",
    "        \"ticker\": ticker,\n",
    "        \"market\": \"NewConnect\",\n",
    "        \"indices\": \"\",  # zostaw puste\n",
    "        \"industry\": industry\n",
    "    })\n",
    "\n",
    "# Tworzenie DataFrame z ustalonymi kolumnami\n",
    "df = pd.DataFrame(companies, columns=[\"company_name\", \"ticker\", \"market\", \"indices\", \"industry\"])\n",
    "df.to_csv(\"nc_stocks.csv\", index=False, encoding=\"utf-8\")\n",
    "print(\"Dane zapisane do pliku nc_stocks.csv\")"
   ]
  },
  {
   "cell_type": "code",
   "execution_count": null,
   "id": "c18cee63",
   "metadata": {},
   "outputs": [],
   "source": []
  }
 ],
 "metadata": {
  "kernelspec": {
   "display_name": ".venv",
   "language": "python",
   "name": "python3"
  },
  "language_info": {
   "codemirror_mode": {
    "name": "ipython",
    "version": 3
   },
   "file_extension": ".py",
   "mimetype": "text/x-python",
   "name": "python",
   "nbconvert_exporter": "python",
   "pygments_lexer": "ipython3",
   "version": "3.13.2"
  }
 },
 "nbformat": 4,
 "nbformat_minor": 5
}
